{
 "cells": [
  {
   "cell_type": "code",
   "execution_count": 2,
   "metadata": {},
   "outputs": [
    {
     "name": "stdout",
     "output_type": "stream",
     "text": [
      "Enter number of rows: 4\n",
      "Enter number of columns: 3\n",
      "Enter value for 1. row and 1. column: 1\n",
      "Enter value for 1. row and 2. column: 1\n",
      "Enter value for 1. row and 3. column: 1\n",
      "Enter value for 2. row and 1. column: 1\n",
      "Enter value for 2. row and 2. column: 0\n",
      "Enter value for 2. row and 3. column: -1\n",
      "Enter value for 3. row and 1. column: 0\n",
      "Enter value for 3. row and 2. column: 1\n",
      "Enter value for 3. row and 3. column: -1\n",
      "Enter value for 4. row and 1. column: 0\n",
      "Enter value for 4. row and 2. column: 0\n",
      "Enter value for 4. row and 3. column: -1\n",
      "[[ 1  1  1]\n",
      " [ 1  0 -1]\n",
      " [ 0  1 -1]\n",
      " [ 0  0 -1]]\n"
     ]
    }
   ],
   "source": [
    "from array import *\n",
    "\n",
    "import numpy as np\n",
    "\n",
    "n_rows = int(input(\"Enter number of rows: \"))\n",
    "n_cols = int(input(\"Enter number of columns: \"))\n",
    "\n",
    "arr = [[int(input(\"Enter value for {}. row and {}. column: \".format(r + 1, c + 1))) for c in range(n_cols)] for r in range(n_rows)]\n",
    "ary = np.array(arr)\n",
    "print(ary)"
   ]
  },
  {
   "cell_type": "code",
   "execution_count": 3,
   "metadata": {},
   "outputs": [
    {
     "data": {
      "text/plain": [
       "array([[ 1,  1,  1],\n",
       "       [ 1,  0, -1],\n",
       "       [ 0,  1, -1],\n",
       "       [ 0,  0, -1]])"
      ]
     },
     "execution_count": 3,
     "metadata": {},
     "output_type": "execute_result"
    }
   ],
   "source": [
    "ary"
   ]
  },
  {
   "cell_type": "code",
   "execution_count": null,
   "metadata": {},
   "outputs": [],
   "source": []
  }
 ],
 "metadata": {
  "interpreter": {
   "hash": "916dbcbb3f70747c44a77c7bcd40155683ae19c65e1c03b4aa3499c5328201f1"
  },
  "kernelspec": {
   "display_name": "Python 3 (ipykernel)",
   "language": "python",
   "name": "python3"
  },
  "language_info": {
   "codemirror_mode": {
    "name": "ipython",
    "version": 3
   },
   "file_extension": ".py",
   "mimetype": "text/x-python",
   "name": "python",
   "nbconvert_exporter": "python",
   "pygments_lexer": "ipython3",
   "version": "3.8.10"
  }
 },
 "nbformat": 4,
 "nbformat_minor": 2
}
